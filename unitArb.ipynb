{
 "cells": [
  {
   "cell_type": "code",
   "execution_count": 77,
   "metadata": {},
   "outputs": [],
   "source": [
    "import pandas as pd \n",
    "%matplotlib inline\n",
    "import matplotlib.pyplot as plt\n",
    "df = pd.read_csv(\"filtered_data_with_bidask.csv\");\n"
   ]
  },
  {
   "cell_type": "code",
   "execution_count": 108,
   "metadata": {},
   "outputs": [],
   "source": [
    "import statistics\n",
    "df['Date'] = pd.to_datetime(df['Date'])"
   ]
  },
  {
   "cell_type": "code",
   "execution_count": 106,
   "metadata": {},
   "outputs": [],
   "source": [
    "tickers = list(df.columns.values);\n",
    "def unit(ticker, warrantFrac):\n",
    "    idx = tickers.index(ticker)\n",
    "    \n",
    "    commonAsk = df[tickers[idx] + \".1\"]\n",
    "    commonBid = df[tickers[idx] + \".2\"]\n",
    "    \n",
    "    warrantAsk = df[tickers[idx + 3] + \".1\"]\n",
    "    warrantBid = df[tickers[idx + 3] + \".2\"]\n",
    "\n",
    "    unitAsk = df[tickers[idx + 6] + \".1\"]\n",
    "    unitBid = df[tickers[idx + 6] + \".2\"]\n",
    "    \n",
    "    dates = []\n",
    "    profit = []\n",
    "    totalProfit = [];\n",
    "    totalInvestment = 0;\n",
    "    for row in range(commonAsk.shape[0]):\n",
    "        #buy and split units\n",
    "        unitPrice = unitAsk[row] \n",
    "        \n",
    "        commonPrice = commonBid[row]\n",
    "        warrantPrice = warrantBid[row]\n",
    "        \n",
    "        if (commonPrice > 0 and warrantPrice > 0 and unitPrice > 0):\n",
    "            if (warrantPrice * warrantFrac + commonPrice > unitPrice + 0.05):\n",
    "                dates.append(df[\"Date\"][row])\n",
    "                profit.append(warrantPrice * warrantFrac + commonPrice - unitPrice)\n",
    "                totalProfit.append(sum(profit))\n",
    "                totalInvestment += unitPrice\n",
    "                \n",
    "    plt.plot(dates, totalProfit)\n",
    "    print (\"avg profit: \" + str(sum(profit) / len(profit)))\n",
    "    print (\"num trades: \" + str(len(profit)))\n",
    "    print(totalInvestment)\n",
    "    print(totalProfit[len(totalProfit) - 1])"
   ]
  },
  {
   "cell_type": "code",
   "execution_count": 107,
   "metadata": {},
   "outputs": [
    {
     "name": "stdout",
     "output_type": "stream",
     "text": [
      "avg profit: 0.1093812500000001\n",
      "num trades: 16\n",
      "210.86\n",
      "1.7501000000000015\n"
     ]
    },
    {
     "data": {
      "image/png": "[encoded data removed]",
      "text/plain": [
       "<Figure size 432x288 with 1 Axes>"
      ]
     },
     "metadata": {
      "needs_background": "light"
     },
     "output_type": "display_data"
    }
   ],
   "source": [
    "unit(\"ASTS\", 0.5)"
   ]
  },
  {
   "cell_type": "code",
   "execution_count": 126,
   "metadata": {},
   "outputs": [],
   "source": [
    "min_df = pd.read_csv(\"filtered_minute_data.csv\");"
   ]
  },
  {
   "cell_type": "code",
   "execution_count": 127,
   "metadata": {},
   "outputs": [],
   "source": [
    "min_df = min_df.drop(axis = 1, labels=\"Unnamed: 0\")"
   ]
  },
  {
   "cell_type": "code",
   "execution_count": 133,
   "metadata": {},
   "outputs": [],
   "source": [
    "cols = min_df.columns.values\n",
    "for col in cols:\n",
    "    if (\"Date\" in col):\n",
    "        min_df[col] = pd.to_datetime(min_df[col])\n",
    "min_df = min_df.drop(labels=0, axis=0)"
   ]
  },
  {
   "cell_type": "code",
   "execution_count": 142,
   "metadata": {},
   "outputs": [
    {
     "data": {
      "text/html": [
       "<div>\n",
       "<style scoped>\n",
       "    .dataframe tbody tr th:only-of-type {\n",
       "        vertical-align: middle;\n",
       "    }\n",
       "\n",
       "    .dataframe tbody tr th {\n",
       "        vertical-align: top;\n",
       "    }\n",
       "\n",
       "    .dataframe thead th {\n",
       "        text-align: right;\n",
       "    }\n",
       "</style>\n",
       "<table border=\"1\" class=\"dataframe\">\n",
       "  <thead>\n",
       "    <tr style=\"text-align: right;\">\n",
       "      <th></th>\n",
       "      <th>Date</th>\n",
       "      <th>ASTS</th>\n",
       "      <th>Date.1</th>\n",
       "      <th>ASTS.1</th>\n",
       "      <th>Date.2</th>\n",
       "      <th>ASTSW</th>\n",
       "      <th>Date.3</th>\n",
       "      <th>ASTSW.1</th>\n",
       "      <th>Date.4</th>\n",
       "      <th>NPAUU</th>\n",
       "      <th>...</th>\n",
       "      <th>Date.41</th>\n",
       "      <th>LOACW.1</th>\n",
       "      <th>Date.42</th>\n",
       "      <th>PCT</th>\n",
       "      <th>Date.43</th>\n",
       "      <th>PCT.1</th>\n",
       "      <th>Date.44</th>\n",
       "      <th>PCTTW</th>\n",
       "      <th>Date.45</th>\n",
       "      <th>PCTTW.1</th>\n",
       "    </tr>\n",
       "  </thead>\n",
       "  <tbody>\n",
       "    <tr>\n",
       "      <td>1</td>\n",
       "      <td>2021-03-17 09:01:00</td>\n",
       "      <td>12.50</td>\n",
       "      <td>2021-03-17 09:03:00</td>\n",
       "      <td>12.56</td>\n",
       "      <td>2021-03-17 09:03:00</td>\n",
       "      <td>4.03</td>\n",
       "      <td>2021-03-17 09:04:00</td>\n",
       "      <td>4.14</td>\n",
       "      <td>2021-03-17 09:11:00</td>\n",
       "      <td>13.61</td>\n",
       "      <td>...</td>\n",
       "      <td>2021-03-17 09:06:00</td>\n",
       "      <td>1.33</td>\n",
       "      <td>2021-03-17 09:03:00</td>\n",
       "      <td>26.53</td>\n",
       "      <td>2021-03-17 09:01:00</td>\n",
       "      <td>26.92</td>\n",
       "      <td>2021-03-17 09:03:00</td>\n",
       "      <td>12.85</td>\n",
       "      <td>2021-03-17 09:05:00</td>\n",
       "      <td>13.00</td>\n",
       "    </tr>\n",
       "    <tr>\n",
       "      <td>2</td>\n",
       "      <td>2021-03-17 09:03:00</td>\n",
       "      <td>12.54</td>\n",
       "      <td>2021-03-17 09:04:00</td>\n",
       "      <td>12.54</td>\n",
       "      <td>2021-03-17 09:04:00</td>\n",
       "      <td>4.03</td>\n",
       "      <td>2021-03-17 09:05:00</td>\n",
       "      <td>4.14</td>\n",
       "      <td>2021-03-17 09:14:00</td>\n",
       "      <td>13.60</td>\n",
       "      <td>...</td>\n",
       "      <td>2021-03-17 09:07:00</td>\n",
       "      <td>1.33</td>\n",
       "      <td>2021-03-17 09:04:00</td>\n",
       "      <td>26.52</td>\n",
       "      <td>2021-03-17 09:03:00</td>\n",
       "      <td>26.95</td>\n",
       "      <td>2021-03-17 09:04:00</td>\n",
       "      <td>12.75</td>\n",
       "      <td>2021-03-17 09:06:00</td>\n",
       "      <td>13.00</td>\n",
       "    </tr>\n",
       "    <tr>\n",
       "      <td>3</td>\n",
       "      <td>2021-03-17 09:04:00</td>\n",
       "      <td>12.52</td>\n",
       "      <td>2021-03-17 09:05:00</td>\n",
       "      <td>12.56</td>\n",
       "      <td>2021-03-17 09:05:00</td>\n",
       "      <td>4.03</td>\n",
       "      <td>2021-03-17 09:06:00</td>\n",
       "      <td>4.11</td>\n",
       "      <td>2021-03-17 10:12:00</td>\n",
       "      <td>13.61</td>\n",
       "      <td>...</td>\n",
       "      <td>2021-03-17 09:08:00</td>\n",
       "      <td>1.33</td>\n",
       "      <td>2021-03-17 09:05:00</td>\n",
       "      <td>26.95</td>\n",
       "      <td>2021-03-17 09:04:00</td>\n",
       "      <td>26.80</td>\n",
       "      <td>2021-03-17 09:05:00</td>\n",
       "      <td>12.95</td>\n",
       "      <td>2021-03-17 09:07:00</td>\n",
       "      <td>13.25</td>\n",
       "    </tr>\n",
       "    <tr>\n",
       "      <td>4</td>\n",
       "      <td>2021-03-17 09:05:00</td>\n",
       "      <td>12.53</td>\n",
       "      <td>2021-03-17 09:06:00</td>\n",
       "      <td>12.50</td>\n",
       "      <td>2021-03-17 09:08:00</td>\n",
       "      <td>4.03</td>\n",
       "      <td>2021-03-17 09:07:00</td>\n",
       "      <td>4.10</td>\n",
       "      <td>2021-03-17 11:33:00</td>\n",
       "      <td>13.61</td>\n",
       "      <td>...</td>\n",
       "      <td>2021-03-17 09:09:00</td>\n",
       "      <td>1.35</td>\n",
       "      <td>2021-03-17 09:06:00</td>\n",
       "      <td>26.90</td>\n",
       "      <td>2021-03-17 09:05:00</td>\n",
       "      <td>27.00</td>\n",
       "      <td>2021-03-17 09:06:00</td>\n",
       "      <td>12.96</td>\n",
       "      <td>2021-03-17 09:09:00</td>\n",
       "      <td>13.25</td>\n",
       "    </tr>\n",
       "    <tr>\n",
       "      <td>5</td>\n",
       "      <td>2021-03-17 09:06:00</td>\n",
       "      <td>12.45</td>\n",
       "      <td>2021-03-17 09:07:00</td>\n",
       "      <td>12.46</td>\n",
       "      <td>2021-03-17 09:11:00</td>\n",
       "      <td>4.05</td>\n",
       "      <td>2021-03-17 09:08:00</td>\n",
       "      <td>4.10</td>\n",
       "      <td>2021-03-17 12:07:00</td>\n",
       "      <td>13.62</td>\n",
       "      <td>...</td>\n",
       "      <td>2021-03-17 09:57:00</td>\n",
       "      <td>1.35</td>\n",
       "      <td>2021-03-17 09:07:00</td>\n",
       "      <td>27.00</td>\n",
       "      <td>2021-03-17 09:06:00</td>\n",
       "      <td>27.10</td>\n",
       "      <td>2021-03-17 09:07:00</td>\n",
       "      <td>13.17</td>\n",
       "      <td>2021-03-17 09:16:00</td>\n",
       "      <td>13.55</td>\n",
       "    </tr>\n",
       "  </tbody>\n",
       "</table>\n",
       "<p>5 rows × 92 columns</p>\n",
       "</div>"
      ],
      "text/plain": [
       "                 Date   ASTS              Date.1  ASTS.1              Date.2  \\\n",
       "1 2021-03-17 09:01:00  12.50 2021-03-17 09:03:00   12.56 2021-03-17 09:03:00   \n",
       "2 2021-03-17 09:03:00  12.54 2021-03-17 09:04:00   12.54 2021-03-17 09:04:00   \n",
       "3 2021-03-17 09:04:00  12.52 2021-03-17 09:05:00   12.56 2021-03-17 09:05:00   \n",
       "4 2021-03-17 09:05:00  12.53 2021-03-17 09:06:00   12.50 2021-03-17 09:08:00   \n",
       "5 2021-03-17 09:06:00  12.45 2021-03-17 09:07:00   12.46 2021-03-17 09:11:00   \n",
       "\n",
       "   ASTSW              Date.3  ASTSW.1              Date.4  NPAUU  ...  \\\n",
       "1   4.03 2021-03-17 09:04:00     4.14 2021-03-17 09:11:00  13.61  ...   \n",
       "2   4.03 2021-03-17 09:05:00     4.14 2021-03-17 09:14:00  13.60  ...   \n",
       "3   4.03 2021-03-17 09:06:00     4.11 2021-03-17 10:12:00  13.61  ...   \n",
       "4   4.03 2021-03-17 09:07:00     4.10 2021-03-17 11:33:00  13.61  ...   \n",
       "5   4.05 2021-03-17 09:08:00     4.10 2021-03-17 12:07:00  13.62  ...   \n",
       "\n",
       "              Date.41  LOACW.1             Date.42    PCT             Date.43  \\\n",
       "1 2021-03-17 09:06:00     1.33 2021-03-17 09:03:00  26.53 2021-03-17 09:01:00   \n",
       "2 2021-03-17 09:07:00     1.33 2021-03-17 09:04:00  26.52 2021-03-17 09:03:00   \n",
       "3 2021-03-17 09:08:00     1.33 2021-03-17 09:05:00  26.95 2021-03-17 09:04:00   \n",
       "4 2021-03-17 09:09:00     1.35 2021-03-17 09:06:00  26.90 2021-03-17 09:05:00   \n",
       "5 2021-03-17 09:57:00     1.35 2021-03-17 09:07:00  27.00 2021-03-17 09:06:00   \n",
       "\n",
       "   PCT.1             Date.44  PCTTW             Date.45  PCTTW.1  \n",
       "1  26.92 2021-03-17 09:03:00  12.85 2021-03-17 09:05:00    13.00  \n",
       "2  26.95 2021-03-17 09:04:00  12.75 2021-03-17 09:06:00    13.00  \n",
       "3  26.80 2021-03-17 09:05:00  12.95 2021-03-17 09:07:00    13.25  \n",
       "4  27.00 2021-03-17 09:06:00  12.96 2021-03-17 09:09:00    13.25  \n",
       "5  27.10 2021-03-17 09:07:00  13.17 2021-03-17 09:16:00    13.55  \n",
       "\n",
       "[5 rows x 92 columns]"
      ]
     },
     "execution_count": 142,
     "metadata": {},
     "output_type": "execute_result"
    }
   ],
   "source": [
    "min_df.head()"
   ]
  },
  {
   "cell_type": "code",
   "execution_count": 178,
   "metadata": {},
   "outputs": [],
   "source": [
    "cols = list(min_df.columns.values)\n",
    "\n",
    "def unitArbMin(ticker, warrantFraction):\n",
    "    idx = cols.index(ticker)\n",
    "\n",
    "    commonBid = min_df[cols[idx]]\n",
    "    commonAsk = min_df[cols[idx + 2]]\n",
    "    \n",
    "    warrantBid = min_df[cols[idx + 4]]\n",
    "    warrantAsk = min_df[cols[idx + 6]]\n",
    "    \n",
    "    unitBid = min_df[cols[idx + 8]]\n",
    "    unitAsk = min_df[cols[idx + 10]]\n",
    "\n",
    "    dates = []\n",
    "    profit = []\n",
    "    totalProfit = [];\n",
    "    totalInvestment = 0;\n",
    "    cnt = 0;\n",
    "    for row in range(1, unitAsk.shape[0]):\n",
    "        time = min_df[cols[idx + 9]][row]\n",
    "        \n",
    "        #buy and split units\n",
    "        unitPrice = unitAsk[row]\n",
    "        \n",
    "        if (len(min_df[min_df[cols[idx - 1]] == time].index) > 0 and len(min_df[min_df[cols[idx + 3]] == time].index) > 0):\n",
    "            commonPrice = commonBid[min_df[min_df[cols[idx - 1]] == time].index[0]]\n",
    "            warrantPrice = warrantBid[min_df[min_df[cols[idx + 3]] == time].index[0]]\n",
    "\n",
    "            if (commonPrice > 0 and warrantPrice > 0 and unitPrice > 0):\n",
    "                cnt += 1;\n",
    "                if (warrantPrice * warrantFraction + commonPrice > unitPrice):\n",
    "                    dates.append(time)\n",
    "                    profit.append(warrantPrice * warrantFraction + commonPrice - unitPrice)\n",
    "                    totalProfit.append(sum(profit))\n",
    "                    totalInvestment += unitPrice\n",
    "                \n",
    "    plt.plot(dates, totalProfit)\n",
    "    print (\"avg profit: \" + str(sum(profit) / len(profit)))\n",
    "    print (\"num trades: \" + str(len(profit)))\n",
    "    print(totalInvestment)\n",
    "    print(totalProfit[len(totalProfit) - 1])\n",
    "    print(dates[len(dates) - 1] - dates[0])\n",
    "    print (cnt)"
   ]
  },
  {
   "cell_type": "code",
   "execution_count": 179,
   "metadata": {},
   "outputs": [
    {
     "name": "stdout",
     "output_type": "stream",
     "text": [
      "avg profit: 0.06625000000000014\n",
      "num trades: 4\n",
      "55.8\n",
      "0.26500000000000057\n",
      "11 days 03:56:00\n",
      "110\n"
     ]
    },
    {
     "data": {
      "image/png": "[encoded data removed]",
      "text/plain": [
       "<Figure size 432x288 with 1 Axes>"
      ]
     },
     "metadata": {
      "needs_background": "light"
     },
     "output_type": "display_data"
    }
   ],
   "source": [
    "unitArbMin(\"ASTS\", 0.5)\n"
   ]
  },
  {
   "cell_type": "code",
   "execution_count": null,
   "metadata": {},
   "outputs": [],
   "source": []
  }
 ],
 "metadata": {
  "kernelspec": {
   "display_name": "Python 3",
   "language": "python",
   "name": "python3"
  },
  "language_info": {
   "codemirror_mode": {
    "name": "ipython",
    "version": 3
   },
   "file_extension": ".py",
   "mimetype": "text/x-python",
   "name": "python",
   "nbconvert_exporter": "python",
   "pygments_lexer": "ipython3",
   "version": "3.7.4"
  }
 },
 "nbformat": 4,
 "nbformat_minor": 2
}
