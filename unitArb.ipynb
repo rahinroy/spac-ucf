{
 "cells": [
  {
   "cell_type": "code",
   "execution_count": 77,
   "metadata": {},
   "outputs": [],
   "source": [
    "import pandas as pd \n",
    "%matplotlib inline\n",
    "import matplotlib.pyplot as plt\n",
    "df = pd.read_csv(\"filtered_data_with_bidask.csv\");\n"
   ]
  },
  {
   "cell_type": "code",
   "execution_count": 108,
   "metadata": {},
   "outputs": [],
   "source": [
    "import statistics\n",
    "df['Date'] = pd.to_datetime(df['Date'])"
   ]
  },
  {
   "cell_type": "code",
   "execution_count": 106,
   "metadata": {},
   "outputs": [],
   "source": [
    "tickers = list(df.columns.values);\n",
    "def unit(ticker, warrantFrac):\n",
    "    idx = tickers.index(ticker)\n",
    "    \n",
    "    commonAsk = df[tickers[idx] + \".1\"]\n",
    "    commonBid = df[tickers[idx] + \".2\"]\n",
    "    \n",
    "    warrantAsk = df[tickers[idx + 3] + \".1\"]\n",
    "    warrantBid = df[tickers[idx + 3] + \".2\"]\n",
    "\n",
    "    unitAsk = df[tickers[idx + 6] + \".1\"]\n",
    "    unitBid = df[tickers[idx + 6] + \".2\"]\n",
    "    \n",
    "    dates = []\n",
    "    profit = []\n",
    "    totalProfit = [];\n",
    "    totalInvestment = 0;\n",
    "    for row in range(commonAsk.shape[0]):\n",
    "        #buy and split units\n",
    "        unitPrice = unitAsk[row] \n",
    "        \n",
    "        commonPrice = commonBid[row]\n",
    "        warrantPrice = warrantBid[row]\n",
    "        \n",
    "        if (commonPrice > 0 and warrantPrice > 0 and unitPrice > 0):\n",
    "            if (warrantPrice * warrantFrac + commonPrice > unitPrice + 0.05):\n",
    "                dates.append(df[\"Date\"][row])\n",
    "                profit.append(warrantPrice * warrantFrac + commonPrice - unitPrice)\n",
    "                totalProfit.append(sum(profit))\n",
    "                totalInvestment += unitPrice\n",
    "                \n",
    "    plt.plot(dates, totalProfit)\n",
    "    print (\"avg profit: \" + str(sum(profit) / len(profit)))\n",
    "    print (\"num trades: \" + str(len(profit)))\n",
    "    print(totalInvestment)\n",
    "    print(totalProfit[len(totalProfit) - 1])"
   ]
  },
  {
   "cell_type": "code",
   "execution_count": 107,
   "metadata": {},
   "outputs": [
    {
     "name": "stdout",
     "output_type": "stream",
     "text": [
      "avg profit: 0.1093812500000001\n",
      "num trades: 16\n",
      "210.86\n",
      "1.7501000000000015\n"
     ]
    },
    {
     "data": {
      "image/png": "[encoded data removed]",
      "text/plain": [
       "<Figure size 432x288 with 1 Axes>"
      ]
     },
     "metadata": {
      "needs_background": "light"
     },
     "output_type": "display_data"
    }
   ],
   "source": [
    "unit(\"ASTS\", 0.5)"
   ]
  },
  {
   "cell_type": "code",
   "execution_count": null,
   "metadata": {},
   "outputs": [],
   "source": []
  }
 ],
 "metadata": {
  "kernelspec": {
   "display_name": "Python 3",
   "language": "python",
   "name": "python3"
  },
  "language_info": {
   "codemirror_mode": {
    "name": "ipython",
    "version": 3
   },
   "file_extension": ".py",
   "mimetype": "text/x-python",
   "name": "python",
   "nbconvert_exporter": "python",
   "pygments_lexer": "ipython3",
   "version": "3.7.4"
  }
 },
 "nbformat": 4,
 "nbformat_minor": 2
}
